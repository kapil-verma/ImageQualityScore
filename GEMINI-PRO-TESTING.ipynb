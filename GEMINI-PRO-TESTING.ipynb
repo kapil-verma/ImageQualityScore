{
  "cells": [
    {
      "cell_type": "code",
      "id": "RRAFUEwZBo0afltfgBuw1P8e",
      "metadata": {
        "tags": [],
        "id": "RRAFUEwZBo0afltfgBuw1P8e"
      },
      "source": [
        "!pip3 install --upgrade --user --quiet google-cloud-aiplatform"
      ],
      "execution_count": null,
      "outputs": []
    },
    {
      "cell_type": "markdown",
      "source": [
        "## Restart the runtime after package install.\n",
        "\n",
        "To use the newly installed packages in this Jupyter runtime, you must restart the runtime. You can do this by running the cell below, which restarts the current kernel."
      ],
      "metadata": {
        "id": "Xkwpav-l6AKC"
      },
      "id": "Xkwpav-l6AKC"
    },
    {
      "cell_type": "code",
      "source": [
        "import sys\n",
        "\n",
        "if 'google.colab' in sys.modules:\n",
        "    import IPython\n",
        "\n",
        "    app = IPython.Application.instance()\n",
        "    app.kernel.do_shutdown(True)\n"
      ],
      "metadata": {
        "id": "PdRpHEaN50ED"
      },
      "id": "PdRpHEaN50ED",
      "execution_count": null,
      "outputs": []
    },
    {
      "cell_type": "markdown",
      "source": [
        "**The kernel needs to restart. Please wait until it is finished before continuing to the next step.**"
      ],
      "metadata": {
        "id": "kT1HfiU-6iUW"
      },
      "id": "kT1HfiU-6iUW"
    },
    {
      "cell_type": "markdown",
      "source": [
        "## Authenticate the colab environment."
      ],
      "metadata": {
        "id": "P-6b6CDg63yD"
      },
      "id": "P-6b6CDg63yD"
    },
    {
      "cell_type": "code",
      "source": [
        "import sys\n",
        "\n",
        "if 'google.colab' in sys.modules:\n",
        "    from google.colab import auth\n",
        "\n",
        "    auth.authenticate_user()"
      ],
      "metadata": {
        "id": "GVyS3DkG6PQc"
      },
      "id": "GVyS3DkG6PQc",
      "execution_count": null,
      "outputs": []
    },
    {
      "cell_type": "markdown",
      "source": [
        "## Set Google Cloud project information and initialize Vertex AI SDK\n",
        "\n"
      ],
      "metadata": {
        "id": "F1VfGPwd7NBd"
      },
      "id": "F1VfGPwd7NBd"
    },
    {
      "cell_type": "code",
      "source": [
        "PROJECT_ID = \"trv-hs-src-data-lake-prod\" # @param {type: \"string\"}\n",
        "REGION = \"us-central1\" # @param {type: \"string\"}\n",
        "\n",
        "import vertexai\n",
        "\n",
        "# Initialize the Vertex AI SDK\n",
        "vertexai.init(project=PROJECT_ID, location=REGION)"
      ],
      "metadata": {
        "id": "67GG5nN07bXa",
        "cellView": "form"
      },
      "id": "67GG5nN07bXa",
      "execution_count": null,
      "outputs": []
    },
    {
      "cell_type": "markdown",
      "source": [
        "## Import libraries"
      ],
      "metadata": {
        "id": "nvoEbuh97uvi"
      },
      "id": "nvoEbuh97uvi"
    },
    {
      "cell_type": "code",
      "source": [
        "import IPython.display\n",
        "from IPython.core.interactiveshell import InteractiveShell\n",
        "InteractiveShell.ast_node_interactivity = \"all\"\n",
        "\n",
        "from vertexai.genereative_models import (\n",
        "    GenerationConfig,\n",
        "    GenerativeModel,\n",
        "    HarmBlockThreshold,\n",
        "    HarmCategory,\n",
        "    Part,\n",
        "    Image\n",
        ")\n",
        "\n",
        "import json\n",
        "from os import path\n",
        "from glob import glob\n",
        "\n",
        "from PIL import Image as PillowImage\n"
      ],
      "metadata": {
        "id": "jy4MPq4f7zVH"
      },
      "id": "jy4MPq4f7zVH",
      "execution_count": null,
      "outputs": []
    },
    {
      "cell_type": "code",
      "source": [
        "MODEL_ID = \"gemini-1.5-pro-preview-0409\" # @param {type: 'string'}\n",
        "BASE_IMAGE_PATH = \"/app/_assets/\" # @param {type: 'string'}"
      ],
      "metadata": {
        "id": "WknNNEGj8RPu"
      },
      "id": "WknNNEGj8RPu",
      "execution_count": null,
      "outputs": []
    },
    {
      "cell_type": "code",
      "source": [
        "PROMPT = \"\"\"\n",
        "    Hi,\n",
        "    please act as a hotel quality assistant.\n",
        "    Analyse the image or images of this hotel objectively.\n",
        "    You must only respond with a json object.\n",
        "\n",
        "    Your json object must cover the following fields:\n",
        "    [{\n",
        "        \"file_name\": string,\n",
        "        \"location\": 'indoor' | 'outdoor',\n",
        "        \"room_type\": string,\n",
        "        \"ambience\": string,\n",
        "        \"image_quality\": number, // score from 0 to 1 in double decimal\n",
        "        \"image_rating\": number, // score from 0 to 1 in double decimal\n",
        "    }, ...]\n",
        "\n",
        "    Sort your output from the most appealing pictures to the least appealing,\n",
        "    factoring in the overall_rating.\n",
        "\n",
        "\"\"\""
      ],
      "metadata": {
        "id": "-F6Vn8k5-fV6"
      },
      "id": "-F6Vn8k5-fV6",
      "execution_count": null,
      "outputs": []
    },
    {
      "cell_type": "code",
      "source": [
        "\"\"\"\n",
        "Lists all the hotel directories in the _assets folder - each directory has the name of a hotel\n",
        "Returns a list of directories containing images with the key as the file-name and the value as Image class\n",
        "\"\"\"\n",
        "\n",
        "class HotelAnalyer:\n",
        "    def __init__(self, images_path: str) -> None:\n",
        "        vertexai.init(project=PROJECT_ID, location=REGION)\n",
        "        self.images_path = images_path + '/*'\n",
        "        self.model = GenerativeModel(MODEL_NAME)\n",
        "\n",
        "    def list_hotel_directories(self):\n",
        "        print('Listing hotel directories...')\n",
        "\n",
        "        directories = glob(self.images_path)\n",
        "\n",
        "        hotel_images = {}\n",
        "\n",
        "        for  (hotel_directory_index, hotel_directory) in enumerate(directories):\n",
        "            image_paths = glob(hotel_directory + '/*')\n",
        "            image_names = [image_path.split('/')[-1] for image_path in image_paths]\n",
        "            hotel_names = [hotel_dir.split('/')[-1] for hotel_dir in directories]\n",
        "            hotel_name = hotel_names[hotel_directory_index]\n",
        "\n",
        "            ### only for testing\n",
        "            for image in image_paths:\n",
        "                image_instace = PillowImage.open(image)\n",
        "                print(image, image_instace.size)\n",
        "            ###\n",
        "\n",
        "            print(f'Loading images for {hotel_name}...')\n",
        "            # get list of loaded image objects using google aiplatform sdk\n",
        "            images = [Image.load_from_file(image) for image in image_paths]\n",
        "\n",
        "            # create the list of hotel images, per hotel as object key\n",
        "            for image_index in range(0, len(images)):\n",
        "                if not hotel_images.get(hotel_name):\n",
        "                    hotel_images[hotel_name] = []\n",
        "\n",
        "                # crete the image list alternating between file names and actual image data\n",
        "                hotel_images[hotel_name].append(image_names[image_index])\n",
        "                hotel_images[hotel_name].append(images[image_index])\n",
        "\n",
        "        return hotel_images\n",
        "\n",
        "    def analyse_hotel_images(self, hotel_name: str, hotel_images: list):\n",
        "        print(f'Analyzing images for {hotel_name}...')\n",
        "\n",
        "        response = self.model.generate_content(\n",
        "            [PROMPT, 'hotel_name: ' + hotel_name, *hotel_images], generation_config={\n",
        "                'response_mime_type': 'application/json'})\n",
        "\n",
        "        print(response)\n",
        "\n",
        "    def start(self):\n",
        "        print('Starting...')\n",
        "\n",
        "        hotels = self.list_hotel_directories()\n",
        "\n",
        "        for hotel_name, hotel_images in hotels.items():\n",
        "            self.analyse_hotel_images(hotel_name, hotel_images)\n",
        "\n",
        "\n",
        "def main():\n",
        "    analyser = HotelAnalyer(BASE_IMAGE_PATH)\n",
        "    analyser.start()\n",
        "\n",
        "\n",
        "if __name__ == '__main__':\n",
        "    main()"
      ],
      "metadata": {
        "id": "AgQEHUB390-N"
      },
      "id": "AgQEHUB390-N",
      "execution_count": null,
      "outputs": []
    },
    {
      "cell_type": "code",
      "source": [],
      "metadata": {
        "id": "Syv-_cLoAQ9x"
      },
      "id": "Syv-_cLoAQ9x",
      "execution_count": null,
      "outputs": []
    }
  ],
  "metadata": {
    "kernelspec": {
      "display_name": "Python 3",
      "language": "python",
      "name": "python3"
    },
    "language_info": {
      "codemirror_mode": {
        "name": "ipython",
        "version": 3
      },
      "file_extension": ".py",
      "mimetype": "text/x-python",
      "name": "python",
      "nbconvert_exporter": "python",
      "pygments_lexer": "ipython3",
      "version": "3.10.10"
    },
    "colab": {
      "provenance": [],
      "name": "GEMINI-PRO-TESTING"
    }
  },
  "nbformat": 4,
  "nbformat_minor": 5
}